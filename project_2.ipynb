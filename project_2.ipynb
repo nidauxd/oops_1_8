{
  "nbformat": 4,
  "nbformat_minor": 0,
  "metadata": {
    "colab": {
      "provenance": [],
      "include_colab_link": true
    },
    "kernelspec": {
      "name": "python3",
      "display_name": "Python 3"
    },
    "language_info": {
      "name": "python"
    }
  },
  "cells": [
    {
      "cell_type": "markdown",
      "metadata": {
        "id": "view-in-github",
        "colab_type": "text"
      },
      "source": [
        "<a href=\"https://colab.research.google.com/github/nidauxd/oops_1_8/blob/main/project_2.ipynb\" target=\"_parent\"><img src=\"https://colab.research.google.com/assets/colab-badge.svg\" alt=\"Open In Colab\"/></a>"
      ]
    },
    {
      "cell_type": "code",
      "execution_count": null,
      "metadata": {
        "colab": {
          "base_uri": "https://localhost:8080/"
        },
        "id": "mEIWtULG-Usq",
        "outputId": "d242b749-89da-4b5a-8bdf-a0ff2c285091"
      },
      "outputs": [
        {
          "output_type": "stream",
          "name": "stdout",
          "text": [
            "Devices: ['Lights', 'Fan', 'AC', 'Door Lock', 'Thermostat']\n"
          ]
        }
      ],
      "source": [
        "devices = ['Lights', 'Fan', 'AC', 'Door Lock', 'Thermostat']\n",
        "print(\"Devices:\", devices)"
      ]
    },
    {
      "cell_type": "code",
      "source": [
        "devices.append('Security Camera')\n",
        "print(\"Updated Devices:\", devices)"
      ],
      "metadata": {
        "colab": {
          "base_uri": "https://localhost:8080/"
        },
        "id": "sN0WP5Tg-X3v",
        "outputId": "17a1a4e3-5f51-4696-93ca-9c091dfa1402"
      },
      "execution_count": null,
      "outputs": [
        {
          "output_type": "stream",
          "name": "stdout",
          "text": [
            "Updated Devices: ['Lights', 'Fan', 'AC', 'Door Lock', 'Thermostat', 'Security Camera']\n"
          ]
        }
      ]
    },
    {
      "cell_type": "code",
      "source": [
        "devices.sort()\n",
        "print(\"Sorted Devices:\", devices)"
      ],
      "metadata": {
        "colab": {
          "base_uri": "https://localhost:8080/"
        },
        "id": "mTTpw9Ov-sSj",
        "outputId": "92b83da9-7faf-4e1c-ad8e-702e42a2b992"
      },
      "execution_count": null,
      "outputs": [
        {
          "output_type": "stream",
          "name": "stdout",
          "text": [
            "Sorted Devices: ['AC', 'Door Lock', 'Fan', 'Lights', 'Security Camera', 'Thermostat']\n"
          ]
        }
      ]
    },
    {
      "cell_type": "code",
      "source": [
        "device_settings = {\n",
        "    'Lights': ('Lights', 'ON', 60),\n",
        "    'Fan': ('Fan', 'OFF', 40),\n",
        "    'AC': ('AC', 'ON', 1500),\n",
        "    'Door Lock': ('Door Lock', 'OFF', 5),\n",
        "    'Thermostat': ('Thermostat', 'ON', 200)\n",
        "}"
      ],
      "metadata": {
        "id": "v9hNx2wS-xQR"
      },
      "execution_count": null,
      "outputs": []
    },
    {
      "cell_type": "code",
      "source": [
        "print(\"\\nDevice Settings:\")\n",
        "for device, setting in device_settings.items():\n",
        "    print(f\"{device}: {setting}\")"
      ],
      "metadata": {
        "colab": {
          "base_uri": "https://localhost:8080/"
        },
        "id": "i4ZjjMBy-0u9",
        "outputId": "6670ab63-f253-4f18-9c96-4198d86b0ff1"
      },
      "execution_count": null,
      "outputs": [
        {
          "output_type": "stream",
          "name": "stdout",
          "text": [
            "\n",
            "Device Settings:\n",
            "Lights: ('Lights', 'ON', 60)\n",
            "Fan: ('Fan', 'OFF', 40)\n",
            "AC: ('AC', 'ON', 1500)\n",
            "Door Lock: ('Door Lock', 'OFF', 5)\n",
            "Thermostat: ('Thermostat', 'ON', 200)\n"
          ]
        }
      ]
    },
    {
      "cell_type": "code",
      "source": [
        "energy_usage = {'Lights': 5, 'AC': 120, 'Fan': 30}\n",
        "print(\"\\nInitial Energy Usage:\", energy_usage)"
      ],
      "metadata": {
        "colab": {
          "base_uri": "https://localhost:8080/"
        },
        "id": "BV3VA7L--5GQ",
        "outputId": "54ea126e-8dc0-49e1-c337-34f7e74294dc"
      },
      "execution_count": null,
      "outputs": [
        {
          "output_type": "stream",
          "name": "stdout",
          "text": [
            "\n",
            "Initial Energy Usage: {'Lights': 5, 'AC': 120, 'Fan': 30}\n"
          ]
        }
      ]
    },
    {
      "cell_type": "code",
      "source": [
        "energy_usage['AC'] = 110\n",
        "energy_usage['Thermostat'] = 20\n",
        "print(\"Updated Energy Usage:\", energy_usage)"
      ],
      "metadata": {
        "colab": {
          "base_uri": "https://localhost:8080/"
        },
        "id": "TtbMsaU-_AJP",
        "outputId": "38f3901d-146d-44db-fd68-44e171e2ce31"
      },
      "execution_count": null,
      "outputs": [
        {
          "output_type": "stream",
          "name": "stdout",
          "text": [
            "Updated Energy Usage: {'Lights': 5, 'AC': 110, 'Fan': 30, 'Thermostat': 20}\n"
          ]
        }
      ]
    },
    {
      "cell_type": "code",
      "source": [
        "total_energy = sum(energy_usage.values())\n",
        "print(\"Total Energy Consumption:\", total_energy, \"kWh\")"
      ],
      "metadata": {
        "colab": {
          "base_uri": "https://localhost:8080/"
        },
        "id": "eXUv_672_Eht",
        "outputId": "5fd0e972-8ff9-4734-ba29-90d80d9704b5"
      },
      "execution_count": null,
      "outputs": [
        {
          "output_type": "stream",
          "name": "stdout",
          "text": [
            "Total Energy Consumption: 165 kWh\n"
          ]
        }
      ]
    },
    {
      "cell_type": "code",
      "source": [
        "modes = {'Eco Mode', 'Night Mode'}\n",
        "print(\"\\nPower-Saving Modes:\", modes)"
      ],
      "metadata": {
        "colab": {
          "base_uri": "https://localhost:8080/"
        },
        "id": "NjE4CkfV_IV7",
        "outputId": "b760c6c3-335e-4f33-d071-53e597973688"
      },
      "execution_count": null,
      "outputs": [
        {
          "output_type": "stream",
          "name": "stdout",
          "text": [
            "\n",
            "Power-Saving Modes: {'Night Mode', 'Eco Mode'}\n"
          ]
        }
      ]
    },
    {
      "cell_type": "code",
      "source": [
        "modes.add('Away Mode')\n",
        "print(\"Updated Modes:\", modes)"
      ],
      "metadata": {
        "colab": {
          "base_uri": "https://localhost:8080/"
        },
        "id": "NIao94Hd_MAz",
        "outputId": "41f06a57-6f52-4839-df80-1f2cc30622e4"
      },
      "execution_count": null,
      "outputs": [
        {
          "output_type": "stream",
          "name": "stdout",
          "text": [
            "Updated Modes: {'Night Mode', 'Eco Mode', 'Away Mode'}\n"
          ]
        }
      ]
    },
    {
      "cell_type": "code",
      "source": [
        "mode_to_check = 'Eco Mode'\n",
        "if mode_to_check in modes:\n",
        "    print(f\"{mode_to_check} is available.\")"
      ],
      "metadata": {
        "colab": {
          "base_uri": "https://localhost:8080/"
        },
        "id": "mofmKYEE_PDO",
        "outputId": "644c32f5-4429-433c-d2bf-e81b34790b5c"
      },
      "execution_count": null,
      "outputs": [
        {
          "output_type": "stream",
          "name": "stdout",
          "text": [
            "Eco Mode is available.\n"
          ]
        }
      ]
    },
    {
      "cell_type": "code",
      "source": [
        "def calculate_energy_cost(energy_usage, rate_per_kwh):\n",
        "    cost = energy_usage * rate_per_kwh\n",
        "    return f\"Total Monthly Energy Cost: ${cost:.2f}\""
      ],
      "metadata": {
        "id": "6CunHH4X_R-H"
      },
      "execution_count": null,
      "outputs": []
    },
    {
      "cell_type": "code",
      "source": [
        "print(\"\\n\" + calculate_energy_cost(total_energy, 0.12))"
      ],
      "metadata": {
        "colab": {
          "base_uri": "https://localhost:8080/"
        },
        "id": "34cRs1X8_Uzy",
        "outputId": "309814b1-71d2-42e1-8a01-812c41d1a387"
      },
      "execution_count": null,
      "outputs": [
        {
          "output_type": "stream",
          "name": "stdout",
          "text": [
            "\n",
            "Total Monthly Energy Cost: $19.80\n"
          ]
        }
      ]
    },
    {
      "cell_type": "code",
      "source": [
        "def find_common_devices(home1, home2):\n",
        "    return set(home1).intersection(set(home2))"
      ],
      "metadata": {
        "id": "k4nfr129_XkZ"
      },
      "execution_count": null,
      "outputs": []
    },
    {
      "cell_type": "code",
      "source": [
        "home1_devices = ['Lights', 'AC', 'Fan']\n",
        "home2_devices = ['Fan', 'Door Lock', 'Lights']\n",
        "print(\"Common Devices:\", find_common_devices(home1_devices, home2_devices))"
      ],
      "metadata": {
        "colab": {
          "base_uri": "https://localhost:8080/"
        },
        "id": "_wKI_Dkp_heP",
        "outputId": "2de40ee3-cda0-4081-81db-8b7738fafee2"
      },
      "execution_count": null,
      "outputs": [
        {
          "output_type": "stream",
          "name": "stdout",
          "text": [
            "Common Devices: {'Fan', 'Lights'}\n"
          ]
        }
      ]
    },
    {
      "cell_type": "code",
      "source": [
        "def set_automation_rule(device, time, action):\n",
        "    return f\"Automation Rule: {device} will be turned {action.upper()} at {time}.\""
      ],
      "metadata": {
        "id": "cZC6ZQE6_qly"
      },
      "execution_count": null,
      "outputs": []
    },
    {
      "cell_type": "code",
      "source": [
        "print(set_automation_rule(\"Lights\", \"10:00 PM\", \"OFF\"))"
      ],
      "metadata": {
        "colab": {
          "base_uri": "https://localhost:8080/"
        },
        "id": "P1MvezQV_uCw",
        "outputId": "57b62cdc-9d25-4975-f164-eb289ee21f26"
      },
      "execution_count": null,
      "outputs": [
        {
          "output_type": "stream",
          "name": "stdout",
          "text": [
            "Automation Rule: Lights will be turned OFF at 10:00 PM.\n"
          ]
        }
      ]
    },
    {
      "cell_type": "code",
      "source": [
        "def optimize_power(devices):\n",
        "    active_devices = [device for device, power in devices if power <= 1000]\n",
        "    return active_devices"
      ],
      "metadata": {
        "id": "zs5aXgN2_wM7"
      },
      "execution_count": null,
      "outputs": []
    },
    {
      "cell_type": "code",
      "source": [
        "devices_with_power = [(\"Lights\", 60), (\"AC\", 1500), (\"Fan\", 40), (\"Heater\", 2000)]\n",
        "print(\"Optimized Devices:\", optimize_power(devices_with_power))"
      ],
      "metadata": {
        "colab": {
          "base_uri": "https://localhost:8080/"
        },
        "id": "yEANMmqZ_y-3",
        "outputId": "d26c631e-a26c-4b4d-8603-8056263fbb5c"
      },
      "execution_count": null,
      "outputs": [
        {
          "output_type": "stream",
          "name": "stdout",
          "text": [
            "Optimized Devices: ['Lights', 'Fan']\n"
          ]
        }
      ]
    },
    {
      "cell_type": "code",
      "source": [
        "def smart_home_assistant(name, *args, **kwargs):\n",
        "    print(f\"\\nHello {name}, checking status for:\", ', '.join(args))\n",
        "    for device, action in kwargs.items():\n",
        "        print(f\"{device.capitalize()} set to {action.upper()}\")"
      ],
      "metadata": {
        "id": "qkWHw0--_1-P"
      },
      "execution_count": null,
      "outputs": []
    },
    {
      "cell_type": "code",
      "source": [
        "smart_home_assistant(\"Alice\", \"Lights\", \"AC\", lights=\"OFF\", ac=\"ON\")"
      ],
      "metadata": {
        "colab": {
          "base_uri": "https://localhost:8080/"
        },
        "id": "sxy7a9j4_5W1",
        "outputId": "66469cb9-2123-4eb6-9414-910ec6f5687d"
      },
      "execution_count": null,
      "outputs": [
        {
          "output_type": "stream",
          "name": "stdout",
          "text": [
            "\n",
            "Hello Alice, checking status for: Lights, AC\n",
            "Lights set to OFF\n",
            "Ac set to ON\n"
          ]
        }
      ]
    },
    {
      "cell_type": "code",
      "source": [],
      "metadata": {
        "id": "_tVK1CMO_8NL"
      },
      "execution_count": null,
      "outputs": []
    }
  ]
}